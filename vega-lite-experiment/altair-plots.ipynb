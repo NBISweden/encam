{
 "cells": [
  {
   "cell_type": "code",
   "execution_count": 1,
   "metadata": {},
   "outputs": [
    {
     "data": {
      "text/html": [
       "Experiments using altair, a library on top of vega-lite an abstraction over vega which generates d3 plots.\n",
       "This is interesting because vega-lite is a javascript library. Sadly, this document is a bit of a post-mortem\n",
       "because it turned out to not be expressive enough.\n"
      ],
      "text/plain": [
       "<IPython.core.display.HTML object>"
      ]
     },
     "metadata": {},
     "output_type": "display_data"
    }
   ],
   "source": [
    "%%html\n",
    "Experiments using altair, a library on top of vega-lite an abstraction over vega which generates d3 plots.\n",
    "This is interesting because vega-lite is a javascript library. Sadly, this document is a bit of a post-mortem\n",
    "because it turned out to not be expressive enough."
   ]
  },
  {
   "cell_type": "code",
   "execution_count": 2,
   "metadata": {},
   "outputs": [
    {
     "data": {
      "text/html": [
       "<div>\n",
       "<style scoped>\n",
       "    .dataframe tbody tr th:only-of-type {\n",
       "        vertical-align: middle;\n",
       "    }\n",
       "\n",
       "    .dataframe tbody tr th {\n",
       "        vertical-align: top;\n",
       "    }\n",
       "\n",
       "    .dataframe thead th {\n",
       "        text-align: right;\n",
       "    }\n",
       "</style>\n",
       "<table border=\"1\" class=\"dataframe\">\n",
       "  <thead>\n",
       "    <tr style=\"text-align: right;\">\n",
       "      <th></th>\n",
       "      <th>tumor</th>\n",
       "      <th>cell</th>\n",
       "      <th>location</th>\n",
       "      <th>cell_full</th>\n",
       "      <th>expression</th>\n",
       "      <th>coef</th>\n",
       "      <th>lower</th>\n",
       "      <th>upper</th>\n",
       "      <th>p</th>\n",
       "    </tr>\n",
       "  </thead>\n",
       "  <tbody>\n",
       "    <tr>\n",
       "      <th>26</th>\n",
       "      <td>lung</td>\n",
       "      <td>CD4</td>\n",
       "      <td>TUMOR</td>\n",
       "      <td>CD4_TUMOR</td>\n",
       "      <td>135.900</td>\n",
       "      <td>0.9517</td>\n",
       "      <td>0.5945</td>\n",
       "      <td>1.523</td>\n",
       "      <td>0.8366</td>\n",
       "    </tr>\n",
       "    <tr>\n",
       "      <th>27</th>\n",
       "      <td>lung</td>\n",
       "      <td>CD4_Treg</td>\n",
       "      <td>TUMOR</td>\n",
       "      <td>CD4_Treg_TUMOR</td>\n",
       "      <td>4.696</td>\n",
       "      <td>0.9658</td>\n",
       "      <td>0.5889</td>\n",
       "      <td>1.584</td>\n",
       "      <td>0.8904</td>\n",
       "    </tr>\n",
       "    <tr>\n",
       "      <th>28</th>\n",
       "      <td>lung</td>\n",
       "      <td>CD8</td>\n",
       "      <td>TUMOR</td>\n",
       "      <td>CD8_TUMOR</td>\n",
       "      <td>78.420</td>\n",
       "      <td>0.7335</td>\n",
       "      <td>0.4578</td>\n",
       "      <td>1.175</td>\n",
       "      <td>0.1975</td>\n",
       "    </tr>\n",
       "    <tr>\n",
       "      <th>29</th>\n",
       "      <td>lung</td>\n",
       "      <td>CD8_Treg</td>\n",
       "      <td>TUMOR</td>\n",
       "      <td>CD8_Treg_TUMOR</td>\n",
       "      <td>0.646</td>\n",
       "      <td>0.6706</td>\n",
       "      <td>0.3952</td>\n",
       "      <td>1.138</td>\n",
       "      <td>0.1385</td>\n",
       "    </tr>\n",
       "    <tr>\n",
       "      <th>30</th>\n",
       "      <td>lung</td>\n",
       "      <td>B_cells</td>\n",
       "      <td>TUMOR</td>\n",
       "      <td>B_cells_TUMOR</td>\n",
       "      <td>41.350</td>\n",
       "      <td>0.8494</td>\n",
       "      <td>0.5247</td>\n",
       "      <td>1.375</td>\n",
       "      <td>0.5066</td>\n",
       "    </tr>\n",
       "  </tbody>\n",
       "</table>\n",
       "</div>"
      ],
      "text/plain": [
       "   tumor      cell location       cell_full  expression    coef   lower  \\\n",
       "26  lung       CD4    TUMOR       CD4_TUMOR     135.900  0.9517  0.5945   \n",
       "27  lung  CD4_Treg    TUMOR  CD4_Treg_TUMOR       4.696  0.9658  0.5889   \n",
       "28  lung       CD8    TUMOR       CD8_TUMOR      78.420  0.7335  0.4578   \n",
       "29  lung  CD8_Treg    TUMOR  CD8_Treg_TUMOR       0.646  0.6706  0.3952   \n",
       "30  lung   B_cells    TUMOR   B_cells_TUMOR      41.350  0.8494  0.5247   \n",
       "\n",
       "    upper       p  \n",
       "26  1.523  0.8366  \n",
       "27  1.584  0.8904  \n",
       "28  1.175  0.1975  \n",
       "29  1.138  0.1385  \n",
       "30  1.375  0.5066  "
      ]
     },
     "execution_count": 2,
     "metadata": {},
     "output_type": "execute_result"
    }
   ],
   "source": [
    "\n",
    "\n",
    "import altair as alt\n",
    "import pandas as pd\n",
    "db = pd.read_json('../frontend/db.json')[lambda row: row.tumor == 'lung']\n",
    "db.head()"
   ]
  },
  {
   "cell_type": "code",
   "execution_count": 3,
   "metadata": {},
   "outputs": [
    {
     "data": {
      "text/html": [
       "It is possible to generate expression bar plots by having location on the x axis and facetting on the cell\n",
       "type (`alt.Column` below):\n"
      ],
      "text/plain": [
       "<IPython.core.display.HTML object>"
      ]
     },
     "metadata": {},
     "output_type": "display_data"
    }
   ],
   "source": [
    "\n",
    "\n",
    "%%html\n",
    "It is possible to generate expression bar plots by having location on the x axis and facetting on the cell\n",
    "type (`alt.Column` below):"
   ]
  },
  {
   "cell_type": "code",
   "execution_count": 4,
   "metadata": {},
   "outputs": [
    {
     "data": {
      "text/html": [
       "\n",
       "<div id=\"altair-viz-64d8ae4832e54040bcf8fcc1727088a2\"></div>\n",
       "<script type=\"text/javascript\">\n",
       "  (function(spec, embedOpt){\n",
       "    const outputDiv = document.getElementById(\"altair-viz-64d8ae4832e54040bcf8fcc1727088a2\");\n",
       "    const paths = {\n",
       "      \"vega\": \"https://cdn.jsdelivr.net/npm//vega@5?noext\",\n",
       "      \"vega-lib\": \"https://cdn.jsdelivr.net/npm//vega-lib?noext\",\n",
       "      \"vega-lite\": \"https://cdn.jsdelivr.net/npm//vega-lite@4.0.2?noext\",\n",
       "      \"vega-embed\": \"https://cdn.jsdelivr.net/npm//vega-embed@6?noext\",\n",
       "    };\n",
       "\n",
       "    function loadScript(lib) {\n",
       "      return new Promise(function(resolve, reject) {\n",
       "        var s = document.createElement('script');\n",
       "        s.src = paths[lib];\n",
       "        s.async = true;\n",
       "        s.onload = () => resolve(paths[lib]);\n",
       "        s.onerror = () => reject(`Error loading script: ${paths[lib]}`);\n",
       "        document.getElementsByTagName(\"head\")[0].appendChild(s);\n",
       "      });\n",
       "    }\n",
       "\n",
       "    function showError(err) {\n",
       "      outputDiv.innerHTML = `<div class=\"error\" style=\"color:red;\">${err}</div>`;\n",
       "      throw err;\n",
       "    }\n",
       "\n",
       "    function displayChart(vegaEmbed) {\n",
       "      vegaEmbed(outputDiv, spec, embedOpt)\n",
       "        .catch(err => showError(`Javascript Error: ${err.message}<br>This usually means there's a typo in your chart specification. See the javascript console for the full traceback.`));\n",
       "    }\n",
       "\n",
       "    if(typeof define === \"function\" && define.amd) {\n",
       "      requirejs.config({paths});\n",
       "      require([\"vega-embed\"], displayChart, err => showError(`Error loading script: ${err.message}`));\n",
       "    } else if (typeof vegaEmbed === \"function\") {\n",
       "      displayChart(vegaEmbed);\n",
       "    } else {\n",
       "      loadScript(\"vega\")\n",
       "        .then(() => loadScript(\"vega-lite\"))\n",
       "        .then(() => loadScript(\"vega-embed\"))\n",
       "        .catch(showError)\n",
       "        .then(() => displayChart(vegaEmbed));\n",
       "    }\n",
       "  })({\"config\": {\"view\": {\"continuousWidth\": 400, \"continuousHeight\": 300, \"strokeWidth\": 0}}, \"data\": {\"name\": \"data-b555f3a2c5130f3cccb354fcebcfe7a6\"}, \"mark\": \"bar\", \"encoding\": {\"color\": {\"type\": \"nominal\", \"field\": \"location\"}, \"column\": {\"type\": \"nominal\", \"field\": \"cell\", \"header\": {\"labelOrient\": \"bottom\"}, \"spacing\": 10}, \"x\": {\"type\": \"nominal\", \"axis\": null, \"field\": \"location\"}, \"y\": {\"type\": \"quantitative\", \"axis\": {\"grid\": false}, \"field\": \"expression\"}}, \"$schema\": \"https://vega.github.io/schema/vega-lite/v4.0.2.json\", \"datasets\": {\"data-b555f3a2c5130f3cccb354fcebcfe7a6\": [{\"tumor\": \"lung\", \"cell\": \"CD4\", \"location\": \"TUMOR\", \"cell_full\": \"CD4_TUMOR\", \"expression\": 135.9, \"coef\": 0.9517, \"lower\": 0.5945, \"upper\": 1.5230000000000001, \"p\": 0.8366}, {\"tumor\": \"lung\", \"cell\": \"CD4_Treg\", \"location\": \"TUMOR\", \"cell_full\": \"CD4_Treg_TUMOR\", \"expression\": 4.696, \"coef\": 0.9658, \"lower\": 0.5889, \"upper\": 1.584, \"p\": 0.8904000000000001}, {\"tumor\": \"lung\", \"cell\": \"CD8\", \"location\": \"TUMOR\", \"cell_full\": \"CD8_TUMOR\", \"expression\": 78.42, \"coef\": 0.7335, \"lower\": 0.45780000000000004, \"upper\": 1.175, \"p\": 0.1975}, {\"tumor\": \"lung\", \"cell\": \"CD8_Treg\", \"location\": \"TUMOR\", \"cell_full\": \"CD8_Treg_TUMOR\", \"expression\": 0.646, \"coef\": 0.6706000000000001, \"lower\": 0.3952, \"upper\": 1.138, \"p\": 0.1385}, {\"tumor\": \"lung\", \"cell\": \"B_cells\", \"location\": \"TUMOR\", \"cell_full\": \"B_cells_TUMOR\", \"expression\": 41.35, \"coef\": 0.8494, \"lower\": 0.5247, \"upper\": 1.375, \"p\": 0.5066}, {\"tumor\": \"lung\", \"cell\": \"CD4\", \"location\": \"STROMA\", \"cell_full\": \"CD4_STROMA\", \"expression\": 110.2, \"coef\": 1.2570000000000001, \"lower\": 0.7133, \"upper\": 2.216, \"p\": 0.4284}, {\"tumor\": \"lung\", \"cell\": \"CD4_Treg\", \"location\": \"STROMA\", \"cell_full\": \"CD4_Treg_STROMA\", \"expression\": 2.396, \"coef\": 0.9522, \"lower\": 0.5267000000000001, \"upper\": 1.721, \"p\": 0.8712000000000001}, {\"tumor\": \"lung\", \"cell\": \"CD8\", \"location\": \"STROMA\", \"cell_full\": \"CD8_STROMA\", \"expression\": 86.6, \"coef\": 0.6955, \"lower\": 0.3929, \"upper\": 1.231, \"p\": 0.21280000000000002}, {\"tumor\": \"lung\", \"cell\": \"CD8_Treg\", \"location\": \"STROMA\", \"cell_full\": \"CD8_Treg_STROMA\", \"expression\": 0.6174000000000001, \"coef\": 0.4304, \"lower\": 0.2192, \"upper\": 0.8451000000000001, \"p\": 0.01433}, {\"tumor\": \"lung\", \"cell\": \"B_cells\", \"location\": \"STROMA\", \"cell_full\": \"B_cells_STROMA\", \"expression\": 42.13, \"coef\": 0.7325, \"lower\": 0.4077, \"upper\": 1.316, \"p\": 0.2977}, {\"tumor\": \"lung\", \"cell\": \"NK\", \"location\": \"TUMOR\", \"cell_full\": \"NK_TUMOR\", \"expression\": 11.53, \"coef\": 0.7709, \"lower\": 0.46080000000000004, \"upper\": 1.29, \"p\": 0.32170000000000004}, {\"tumor\": \"lung\", \"cell\": \"NKT\", \"location\": \"TUMOR\", \"cell_full\": \"NKT_TUMOR\", \"expression\": 11.1, \"coef\": 0.8926000000000001, \"lower\": 0.5337000000000001, \"upper\": 1.4929999999999999, \"p\": 0.6649}, {\"tumor\": \"lung\", \"cell\": \"M1\", \"location\": \"TUMOR\", \"cell_full\": \"M1_TUMOR\", \"expression\": 71.44, \"coef\": 0.7721, \"lower\": 0.4731, \"upper\": 1.26, \"p\": 0.3005}, {\"tumor\": \"lung\", \"cell\": \"CD163_single\", \"location\": \"TUMOR\", \"cell_full\": \"CD163_single_TUMOR\", \"expression\": 261.6, \"coef\": 0.7335, \"lower\": 0.4484, \"upper\": 1.2, \"p\": 0.21730000000000002}, {\"tumor\": \"lung\", \"cell\": \"M2\", \"location\": \"TUMOR\", \"cell_full\": \"M2_TUMOR\", \"expression\": 4.375, \"coef\": 1.137, \"lower\": 0.6799000000000001, \"upper\": 1.903, \"p\": 0.6239}, {\"tumor\": \"lung\", \"cell\": \"NK\", \"location\": \"STROMA\", \"cell_full\": \"NK_STROMA\", \"expression\": 2.235, \"coef\": 0.6335000000000001, \"lower\": 0.3321, \"upper\": 1.208, \"p\": 0.16590000000000002}, {\"tumor\": \"lung\", \"cell\": \"NKT\", \"location\": \"STROMA\", \"cell_full\": \"NKT_STROMA\", \"expression\": 2.023, \"coef\": 1.118, \"lower\": 0.6066, \"upper\": 2.06, \"p\": 0.7208}, {\"tumor\": \"lung\", \"cell\": \"M1_single\", \"location\": \"STROMA\", \"cell_full\": \"M1_single_STROMA\", \"expression\": 82.79, \"coef\": 1.221, \"lower\": 0.6778000000000001, \"upper\": 2.198, \"p\": 0.5066}, {\"tumor\": \"lung\", \"cell\": \"CD163_single\", \"location\": \"STROMA\", \"cell_full\": \"CD163_single_STROMA\", \"expression\": 204.9, \"coef\": 1.221, \"lower\": 0.68, \"upper\": 2.193, \"p\": 0.5036}, {\"tumor\": \"lung\", \"cell\": \"M2\", \"location\": \"STROMA\", \"cell_full\": \"M2_STROMA\", \"expression\": 12.46, \"coef\": 2.002, \"lower\": 1.108, \"upper\": 3.616, \"p\": 0.021480000000000003}, {\"tumor\": \"lung\", \"cell\": \"iDC_single\", \"location\": \"TUMOR\", \"cell_full\": \"iDC_single_TUMOR\", \"expression\": 25.88, \"coef\": 0.7808, \"lower\": 0.47890000000000005, \"upper\": 1.2730000000000001, \"p\": 0.32120000000000004}, {\"tumor\": \"lung\", \"cell\": \"mDC\", \"location\": \"TUMOR\", \"cell_full\": \"mDC_TUMOR\", \"expression\": 1.142, \"coef\": 0.8041, \"lower\": 0.44470000000000004, \"upper\": 1.454, \"p\": 0.47050000000000003}, {\"tumor\": \"lung\", \"cell\": \"pDC\", \"location\": \"TUMOR\", \"cell_full\": \"pDC_TUMOR\", \"expression\": 125.7, \"coef\": 1.403, \"lower\": 0.8602000000000001, \"upper\": 2.2880000000000003, \"p\": 0.1749}, {\"tumor\": \"lung\", \"cell\": \"iDC\", \"location\": \"STROMA\", \"cell_full\": \"iDC_STROMA\", \"expression\": 21.54, \"coef\": 1.176, \"lower\": 0.6498, \"upper\": 2.127, \"p\": 0.5928}, {\"tumor\": \"lung\", \"cell\": \"mDC\", \"location\": \"STROMA\", \"cell_full\": \"mDC_STROMA\", \"expression\": 0.33190000000000003, \"coef\": 1.599, \"lower\": 0.8554, \"upper\": 2.99, \"p\": 0.1413}, {\"tumor\": \"lung\", \"cell\": \"pDC\", \"location\": \"STROMA\", \"cell_full\": \"pDC_STROMA\", \"expression\": 98.71, \"coef\": 0.6742, \"lower\": 0.36920000000000003, \"upper\": 1.231, \"p\": 0.1995}]}}, {\"mode\": \"vega-lite\"});\n",
       "</script>"
      ],
      "text/plain": [
       "alt.Chart(...)"
      ]
     },
     "execution_count": 4,
     "metadata": {},
     "output_type": "execute_result"
    }
   ],
   "source": [
    "\n",
    "\n",
    "alt.Chart(db).mark_bar().encode(\n",
    "    x=alt.X('location', axis=None),\n",
    "    y=alt.Y('expression', axis=alt.Axis(grid=False)),\n",
    "    column=alt.Column('cell', header=alt.Header(labelOrient='bottom'), spacing=10),\n",
    "    color='location'\n",
    ").configure_view(strokeWidth=0)"
   ]
  },
  {
   "cell_type": "code",
   "execution_count": 5,
   "metadata": {},
   "outputs": [
    {
     "data": {
      "text/html": [
       "Without `strokeWidth` it is more apparent that these are several plots side-by-side:\n"
      ],
      "text/plain": [
       "<IPython.core.display.HTML object>"
      ]
     },
     "metadata": {},
     "output_type": "display_data"
    }
   ],
   "source": [
    "\n",
    "\n",
    "%%html\n",
    "Without `strokeWidth` it is more apparent that these are several plots side-by-side:"
   ]
  },
  {
   "cell_type": "code",
   "execution_count": 6,
   "metadata": {},
   "outputs": [
    {
     "data": {
      "text/html": [
       "\n",
       "<div id=\"altair-viz-68e4ca5496964df683a67f3c4f32f3ed\"></div>\n",
       "<script type=\"text/javascript\">\n",
       "  (function(spec, embedOpt){\n",
       "    const outputDiv = document.getElementById(\"altair-viz-68e4ca5496964df683a67f3c4f32f3ed\");\n",
       "    const paths = {\n",
       "      \"vega\": \"https://cdn.jsdelivr.net/npm//vega@5?noext\",\n",
       "      \"vega-lib\": \"https://cdn.jsdelivr.net/npm//vega-lib?noext\",\n",
       "      \"vega-lite\": \"https://cdn.jsdelivr.net/npm//vega-lite@4.0.2?noext\",\n",
       "      \"vega-embed\": \"https://cdn.jsdelivr.net/npm//vega-embed@6?noext\",\n",
       "    };\n",
       "\n",
       "    function loadScript(lib) {\n",
       "      return new Promise(function(resolve, reject) {\n",
       "        var s = document.createElement('script');\n",
       "        s.src = paths[lib];\n",
       "        s.async = true;\n",
       "        s.onload = () => resolve(paths[lib]);\n",
       "        s.onerror = () => reject(`Error loading script: ${paths[lib]}`);\n",
       "        document.getElementsByTagName(\"head\")[0].appendChild(s);\n",
       "      });\n",
       "    }\n",
       "\n",
       "    function showError(err) {\n",
       "      outputDiv.innerHTML = `<div class=\"error\" style=\"color:red;\">${err}</div>`;\n",
       "      throw err;\n",
       "    }\n",
       "\n",
       "    function displayChart(vegaEmbed) {\n",
       "      vegaEmbed(outputDiv, spec, embedOpt)\n",
       "        .catch(err => showError(`Javascript Error: ${err.message}<br>This usually means there's a typo in your chart specification. See the javascript console for the full traceback.`));\n",
       "    }\n",
       "\n",
       "    if(typeof define === \"function\" && define.amd) {\n",
       "      requirejs.config({paths});\n",
       "      require([\"vega-embed\"], displayChart, err => showError(`Error loading script: ${err.message}`));\n",
       "    } else if (typeof vegaEmbed === \"function\") {\n",
       "      displayChart(vegaEmbed);\n",
       "    } else {\n",
       "      loadScript(\"vega\")\n",
       "        .then(() => loadScript(\"vega-lite\"))\n",
       "        .then(() => loadScript(\"vega-embed\"))\n",
       "        .catch(showError)\n",
       "        .then(() => displayChart(vegaEmbed));\n",
       "    }\n",
       "  })({\"config\": {\"view\": {\"continuousWidth\": 400, \"continuousHeight\": 300}}, \"data\": {\"name\": \"data-b555f3a2c5130f3cccb354fcebcfe7a6\"}, \"mark\": \"bar\", \"encoding\": {\"color\": {\"type\": \"nominal\", \"field\": \"location\"}, \"column\": {\"type\": \"nominal\", \"field\": \"cell\", \"header\": {\"labelOrient\": \"bottom\"}, \"spacing\": 10}, \"x\": {\"type\": \"nominal\", \"axis\": null, \"field\": \"location\"}, \"y\": {\"type\": \"quantitative\", \"axis\": {\"grid\": false}, \"field\": \"expression\"}}, \"$schema\": \"https://vega.github.io/schema/vega-lite/v4.0.2.json\", \"datasets\": {\"data-b555f3a2c5130f3cccb354fcebcfe7a6\": [{\"tumor\": \"lung\", \"cell\": \"CD4\", \"location\": \"TUMOR\", \"cell_full\": \"CD4_TUMOR\", \"expression\": 135.9, \"coef\": 0.9517, \"lower\": 0.5945, \"upper\": 1.5230000000000001, \"p\": 0.8366}, {\"tumor\": \"lung\", \"cell\": \"CD4_Treg\", \"location\": \"TUMOR\", \"cell_full\": \"CD4_Treg_TUMOR\", \"expression\": 4.696, \"coef\": 0.9658, \"lower\": 0.5889, \"upper\": 1.584, \"p\": 0.8904000000000001}, {\"tumor\": \"lung\", \"cell\": \"CD8\", \"location\": \"TUMOR\", \"cell_full\": \"CD8_TUMOR\", \"expression\": 78.42, \"coef\": 0.7335, \"lower\": 0.45780000000000004, \"upper\": 1.175, \"p\": 0.1975}, {\"tumor\": \"lung\", \"cell\": \"CD8_Treg\", \"location\": \"TUMOR\", \"cell_full\": \"CD8_Treg_TUMOR\", \"expression\": 0.646, \"coef\": 0.6706000000000001, \"lower\": 0.3952, \"upper\": 1.138, \"p\": 0.1385}, {\"tumor\": \"lung\", \"cell\": \"B_cells\", \"location\": \"TUMOR\", \"cell_full\": \"B_cells_TUMOR\", \"expression\": 41.35, \"coef\": 0.8494, \"lower\": 0.5247, \"upper\": 1.375, \"p\": 0.5066}, {\"tumor\": \"lung\", \"cell\": \"CD4\", \"location\": \"STROMA\", \"cell_full\": \"CD4_STROMA\", \"expression\": 110.2, \"coef\": 1.2570000000000001, \"lower\": 0.7133, \"upper\": 2.216, \"p\": 0.4284}, {\"tumor\": \"lung\", \"cell\": \"CD4_Treg\", \"location\": \"STROMA\", \"cell_full\": \"CD4_Treg_STROMA\", \"expression\": 2.396, \"coef\": 0.9522, \"lower\": 0.5267000000000001, \"upper\": 1.721, \"p\": 0.8712000000000001}, {\"tumor\": \"lung\", \"cell\": \"CD8\", \"location\": \"STROMA\", \"cell_full\": \"CD8_STROMA\", \"expression\": 86.6, \"coef\": 0.6955, \"lower\": 0.3929, \"upper\": 1.231, \"p\": 0.21280000000000002}, {\"tumor\": \"lung\", \"cell\": \"CD8_Treg\", \"location\": \"STROMA\", \"cell_full\": \"CD8_Treg_STROMA\", \"expression\": 0.6174000000000001, \"coef\": 0.4304, \"lower\": 0.2192, \"upper\": 0.8451000000000001, \"p\": 0.01433}, {\"tumor\": \"lung\", \"cell\": \"B_cells\", \"location\": \"STROMA\", \"cell_full\": \"B_cells_STROMA\", \"expression\": 42.13, \"coef\": 0.7325, \"lower\": 0.4077, \"upper\": 1.316, \"p\": 0.2977}, {\"tumor\": \"lung\", \"cell\": \"NK\", \"location\": \"TUMOR\", \"cell_full\": \"NK_TUMOR\", \"expression\": 11.53, \"coef\": 0.7709, \"lower\": 0.46080000000000004, \"upper\": 1.29, \"p\": 0.32170000000000004}, {\"tumor\": \"lung\", \"cell\": \"NKT\", \"location\": \"TUMOR\", \"cell_full\": \"NKT_TUMOR\", \"expression\": 11.1, \"coef\": 0.8926000000000001, \"lower\": 0.5337000000000001, \"upper\": 1.4929999999999999, \"p\": 0.6649}, {\"tumor\": \"lung\", \"cell\": \"M1\", \"location\": \"TUMOR\", \"cell_full\": \"M1_TUMOR\", \"expression\": 71.44, \"coef\": 0.7721, \"lower\": 0.4731, \"upper\": 1.26, \"p\": 0.3005}, {\"tumor\": \"lung\", \"cell\": \"CD163_single\", \"location\": \"TUMOR\", \"cell_full\": \"CD163_single_TUMOR\", \"expression\": 261.6, \"coef\": 0.7335, \"lower\": 0.4484, \"upper\": 1.2, \"p\": 0.21730000000000002}, {\"tumor\": \"lung\", \"cell\": \"M2\", \"location\": \"TUMOR\", \"cell_full\": \"M2_TUMOR\", \"expression\": 4.375, \"coef\": 1.137, \"lower\": 0.6799000000000001, \"upper\": 1.903, \"p\": 0.6239}, {\"tumor\": \"lung\", \"cell\": \"NK\", \"location\": \"STROMA\", \"cell_full\": \"NK_STROMA\", \"expression\": 2.235, \"coef\": 0.6335000000000001, \"lower\": 0.3321, \"upper\": 1.208, \"p\": 0.16590000000000002}, {\"tumor\": \"lung\", \"cell\": \"NKT\", \"location\": \"STROMA\", \"cell_full\": \"NKT_STROMA\", \"expression\": 2.023, \"coef\": 1.118, \"lower\": 0.6066, \"upper\": 2.06, \"p\": 0.7208}, {\"tumor\": \"lung\", \"cell\": \"M1_single\", \"location\": \"STROMA\", \"cell_full\": \"M1_single_STROMA\", \"expression\": 82.79, \"coef\": 1.221, \"lower\": 0.6778000000000001, \"upper\": 2.198, \"p\": 0.5066}, {\"tumor\": \"lung\", \"cell\": \"CD163_single\", \"location\": \"STROMA\", \"cell_full\": \"CD163_single_STROMA\", \"expression\": 204.9, \"coef\": 1.221, \"lower\": 0.68, \"upper\": 2.193, \"p\": 0.5036}, {\"tumor\": \"lung\", \"cell\": \"M2\", \"location\": \"STROMA\", \"cell_full\": \"M2_STROMA\", \"expression\": 12.46, \"coef\": 2.002, \"lower\": 1.108, \"upper\": 3.616, \"p\": 0.021480000000000003}, {\"tumor\": \"lung\", \"cell\": \"iDC_single\", \"location\": \"TUMOR\", \"cell_full\": \"iDC_single_TUMOR\", \"expression\": 25.88, \"coef\": 0.7808, \"lower\": 0.47890000000000005, \"upper\": 1.2730000000000001, \"p\": 0.32120000000000004}, {\"tumor\": \"lung\", \"cell\": \"mDC\", \"location\": \"TUMOR\", \"cell_full\": \"mDC_TUMOR\", \"expression\": 1.142, \"coef\": 0.8041, \"lower\": 0.44470000000000004, \"upper\": 1.454, \"p\": 0.47050000000000003}, {\"tumor\": \"lung\", \"cell\": \"pDC\", \"location\": \"TUMOR\", \"cell_full\": \"pDC_TUMOR\", \"expression\": 125.7, \"coef\": 1.403, \"lower\": 0.8602000000000001, \"upper\": 2.2880000000000003, \"p\": 0.1749}, {\"tumor\": \"lung\", \"cell\": \"iDC\", \"location\": \"STROMA\", \"cell_full\": \"iDC_STROMA\", \"expression\": 21.54, \"coef\": 1.176, \"lower\": 0.6498, \"upper\": 2.127, \"p\": 0.5928}, {\"tumor\": \"lung\", \"cell\": \"mDC\", \"location\": \"STROMA\", \"cell_full\": \"mDC_STROMA\", \"expression\": 0.33190000000000003, \"coef\": 1.599, \"lower\": 0.8554, \"upper\": 2.99, \"p\": 0.1413}, {\"tumor\": \"lung\", \"cell\": \"pDC\", \"location\": \"STROMA\", \"cell_full\": \"pDC_STROMA\", \"expression\": 98.71, \"coef\": 0.6742, \"lower\": 0.36920000000000003, \"upper\": 1.231, \"p\": 0.1995}]}}, {\"mode\": \"vega-lite\"});\n",
       "</script>"
      ],
      "text/plain": [
       "alt.Chart(...)"
      ]
     },
     "execution_count": 6,
     "metadata": {},
     "output_type": "execute_result"
    }
   ],
   "source": [
    "\n",
    "\n",
    "alt.Chart(db).mark_bar().encode(\n",
    "    x=alt.X('location', axis=None),\n",
    "    y=alt.Y('expression', axis=alt.Axis(grid=False)),\n",
    "    column=alt.Column('cell', header=alt.Header(labelOrient='bottom'), spacing=10),\n",
    "    color='location'\n",
    ")"
   ]
  },
  {
   "cell_type": "code",
   "execution_count": 7,
   "metadata": {},
   "outputs": [
    {
     "data": {
      "text/html": [
       "I bumped in to many problems. This is problem 1: It is not possble to draw grid lines on the y-axis between graphs.\n",
       "The corresponding issue is <a href=\"https://github.com/vega/vega-lite/issues/4703\">vega-lite#4703</a>\n",
       "This is what happens when the grid is turned on:\n"
      ],
      "text/plain": [
       "<IPython.core.display.HTML object>"
      ]
     },
     "metadata": {},
     "output_type": "display_data"
    }
   ],
   "source": [
    "\n",
    "\n",
    "%%html\n",
    "I bumped in to many problems. This is problem 1: It is not possble to draw grid lines on the y-axis between graphs.\n",
    "The corresponding issue is <a href=\"https://github.com/vega/vega-lite/issues/4703\">vega-lite#4703</a>\n",
    "This is what happens when the grid is turned on:"
   ]
  },
  {
   "cell_type": "code",
   "execution_count": 8,
   "metadata": {},
   "outputs": [
    {
     "data": {
      "text/html": [
       "\n",
       "<div id=\"altair-viz-ba815f0f59654315b83b9b02aada2ec6\"></div>\n",
       "<script type=\"text/javascript\">\n",
       "  (function(spec, embedOpt){\n",
       "    const outputDiv = document.getElementById(\"altair-viz-ba815f0f59654315b83b9b02aada2ec6\");\n",
       "    const paths = {\n",
       "      \"vega\": \"https://cdn.jsdelivr.net/npm//vega@5?noext\",\n",
       "      \"vega-lib\": \"https://cdn.jsdelivr.net/npm//vega-lib?noext\",\n",
       "      \"vega-lite\": \"https://cdn.jsdelivr.net/npm//vega-lite@4.0.2?noext\",\n",
       "      \"vega-embed\": \"https://cdn.jsdelivr.net/npm//vega-embed@6?noext\",\n",
       "    };\n",
       "\n",
       "    function loadScript(lib) {\n",
       "      return new Promise(function(resolve, reject) {\n",
       "        var s = document.createElement('script');\n",
       "        s.src = paths[lib];\n",
       "        s.async = true;\n",
       "        s.onload = () => resolve(paths[lib]);\n",
       "        s.onerror = () => reject(`Error loading script: ${paths[lib]}`);\n",
       "        document.getElementsByTagName(\"head\")[0].appendChild(s);\n",
       "      });\n",
       "    }\n",
       "\n",
       "    function showError(err) {\n",
       "      outputDiv.innerHTML = `<div class=\"error\" style=\"color:red;\">${err}</div>`;\n",
       "      throw err;\n",
       "    }\n",
       "\n",
       "    function displayChart(vegaEmbed) {\n",
       "      vegaEmbed(outputDiv, spec, embedOpt)\n",
       "        .catch(err => showError(`Javascript Error: ${err.message}<br>This usually means there's a typo in your chart specification. See the javascript console for the full traceback.`));\n",
       "    }\n",
       "\n",
       "    if(typeof define === \"function\" && define.amd) {\n",
       "      requirejs.config({paths});\n",
       "      require([\"vega-embed\"], displayChart, err => showError(`Error loading script: ${err.message}`));\n",
       "    } else if (typeof vegaEmbed === \"function\") {\n",
       "      displayChart(vegaEmbed);\n",
       "    } else {\n",
       "      loadScript(\"vega\")\n",
       "        .then(() => loadScript(\"vega-lite\"))\n",
       "        .then(() => loadScript(\"vega-embed\"))\n",
       "        .catch(showError)\n",
       "        .then(() => displayChart(vegaEmbed));\n",
       "    }\n",
       "  })({\"config\": {\"view\": {\"continuousWidth\": 400, \"continuousHeight\": 300, \"strokeWidth\": 0}}, \"data\": {\"name\": \"data-b555f3a2c5130f3cccb354fcebcfe7a6\"}, \"mark\": \"bar\", \"encoding\": {\"color\": {\"type\": \"nominal\", \"field\": \"location\"}, \"column\": {\"type\": \"nominal\", \"field\": \"cell\", \"header\": {\"labelOrient\": \"bottom\"}, \"spacing\": 10}, \"x\": {\"type\": \"nominal\", \"axis\": null, \"field\": \"location\"}, \"y\": {\"type\": \"quantitative\", \"axis\": {\"grid\": true}, \"field\": \"expression\"}}, \"$schema\": \"https://vega.github.io/schema/vega-lite/v4.0.2.json\", \"datasets\": {\"data-b555f3a2c5130f3cccb354fcebcfe7a6\": [{\"tumor\": \"lung\", \"cell\": \"CD4\", \"location\": \"TUMOR\", \"cell_full\": \"CD4_TUMOR\", \"expression\": 135.9, \"coef\": 0.9517, \"lower\": 0.5945, \"upper\": 1.5230000000000001, \"p\": 0.8366}, {\"tumor\": \"lung\", \"cell\": \"CD4_Treg\", \"location\": \"TUMOR\", \"cell_full\": \"CD4_Treg_TUMOR\", \"expression\": 4.696, \"coef\": 0.9658, \"lower\": 0.5889, \"upper\": 1.584, \"p\": 0.8904000000000001}, {\"tumor\": \"lung\", \"cell\": \"CD8\", \"location\": \"TUMOR\", \"cell_full\": \"CD8_TUMOR\", \"expression\": 78.42, \"coef\": 0.7335, \"lower\": 0.45780000000000004, \"upper\": 1.175, \"p\": 0.1975}, {\"tumor\": \"lung\", \"cell\": \"CD8_Treg\", \"location\": \"TUMOR\", \"cell_full\": \"CD8_Treg_TUMOR\", \"expression\": 0.646, \"coef\": 0.6706000000000001, \"lower\": 0.3952, \"upper\": 1.138, \"p\": 0.1385}, {\"tumor\": \"lung\", \"cell\": \"B_cells\", \"location\": \"TUMOR\", \"cell_full\": \"B_cells_TUMOR\", \"expression\": 41.35, \"coef\": 0.8494, \"lower\": 0.5247, \"upper\": 1.375, \"p\": 0.5066}, {\"tumor\": \"lung\", \"cell\": \"CD4\", \"location\": \"STROMA\", \"cell_full\": \"CD4_STROMA\", \"expression\": 110.2, \"coef\": 1.2570000000000001, \"lower\": 0.7133, \"upper\": 2.216, \"p\": 0.4284}, {\"tumor\": \"lung\", \"cell\": \"CD4_Treg\", \"location\": \"STROMA\", \"cell_full\": \"CD4_Treg_STROMA\", \"expression\": 2.396, \"coef\": 0.9522, \"lower\": 0.5267000000000001, \"upper\": 1.721, \"p\": 0.8712000000000001}, {\"tumor\": \"lung\", \"cell\": \"CD8\", \"location\": \"STROMA\", \"cell_full\": \"CD8_STROMA\", \"expression\": 86.6, \"coef\": 0.6955, \"lower\": 0.3929, \"upper\": 1.231, \"p\": 0.21280000000000002}, {\"tumor\": \"lung\", \"cell\": \"CD8_Treg\", \"location\": \"STROMA\", \"cell_full\": \"CD8_Treg_STROMA\", \"expression\": 0.6174000000000001, \"coef\": 0.4304, \"lower\": 0.2192, \"upper\": 0.8451000000000001, \"p\": 0.01433}, {\"tumor\": \"lung\", \"cell\": \"B_cells\", \"location\": \"STROMA\", \"cell_full\": \"B_cells_STROMA\", \"expression\": 42.13, \"coef\": 0.7325, \"lower\": 0.4077, \"upper\": 1.316, \"p\": 0.2977}, {\"tumor\": \"lung\", \"cell\": \"NK\", \"location\": \"TUMOR\", \"cell_full\": \"NK_TUMOR\", \"expression\": 11.53, \"coef\": 0.7709, \"lower\": 0.46080000000000004, \"upper\": 1.29, \"p\": 0.32170000000000004}, {\"tumor\": \"lung\", \"cell\": \"NKT\", \"location\": \"TUMOR\", \"cell_full\": \"NKT_TUMOR\", \"expression\": 11.1, \"coef\": 0.8926000000000001, \"lower\": 0.5337000000000001, \"upper\": 1.4929999999999999, \"p\": 0.6649}, {\"tumor\": \"lung\", \"cell\": \"M1\", \"location\": \"TUMOR\", \"cell_full\": \"M1_TUMOR\", \"expression\": 71.44, \"coef\": 0.7721, \"lower\": 0.4731, \"upper\": 1.26, \"p\": 0.3005}, {\"tumor\": \"lung\", \"cell\": \"CD163_single\", \"location\": \"TUMOR\", \"cell_full\": \"CD163_single_TUMOR\", \"expression\": 261.6, \"coef\": 0.7335, \"lower\": 0.4484, \"upper\": 1.2, \"p\": 0.21730000000000002}, {\"tumor\": \"lung\", \"cell\": \"M2\", \"location\": \"TUMOR\", \"cell_full\": \"M2_TUMOR\", \"expression\": 4.375, \"coef\": 1.137, \"lower\": 0.6799000000000001, \"upper\": 1.903, \"p\": 0.6239}, {\"tumor\": \"lung\", \"cell\": \"NK\", \"location\": \"STROMA\", \"cell_full\": \"NK_STROMA\", \"expression\": 2.235, \"coef\": 0.6335000000000001, \"lower\": 0.3321, \"upper\": 1.208, \"p\": 0.16590000000000002}, {\"tumor\": \"lung\", \"cell\": \"NKT\", \"location\": \"STROMA\", \"cell_full\": \"NKT_STROMA\", \"expression\": 2.023, \"coef\": 1.118, \"lower\": 0.6066, \"upper\": 2.06, \"p\": 0.7208}, {\"tumor\": \"lung\", \"cell\": \"M1_single\", \"location\": \"STROMA\", \"cell_full\": \"M1_single_STROMA\", \"expression\": 82.79, \"coef\": 1.221, \"lower\": 0.6778000000000001, \"upper\": 2.198, \"p\": 0.5066}, {\"tumor\": \"lung\", \"cell\": \"CD163_single\", \"location\": \"STROMA\", \"cell_full\": \"CD163_single_STROMA\", \"expression\": 204.9, \"coef\": 1.221, \"lower\": 0.68, \"upper\": 2.193, \"p\": 0.5036}, {\"tumor\": \"lung\", \"cell\": \"M2\", \"location\": \"STROMA\", \"cell_full\": \"M2_STROMA\", \"expression\": 12.46, \"coef\": 2.002, \"lower\": 1.108, \"upper\": 3.616, \"p\": 0.021480000000000003}, {\"tumor\": \"lung\", \"cell\": \"iDC_single\", \"location\": \"TUMOR\", \"cell_full\": \"iDC_single_TUMOR\", \"expression\": 25.88, \"coef\": 0.7808, \"lower\": 0.47890000000000005, \"upper\": 1.2730000000000001, \"p\": 0.32120000000000004}, {\"tumor\": \"lung\", \"cell\": \"mDC\", \"location\": \"TUMOR\", \"cell_full\": \"mDC_TUMOR\", \"expression\": 1.142, \"coef\": 0.8041, \"lower\": 0.44470000000000004, \"upper\": 1.454, \"p\": 0.47050000000000003}, {\"tumor\": \"lung\", \"cell\": \"pDC\", \"location\": \"TUMOR\", \"cell_full\": \"pDC_TUMOR\", \"expression\": 125.7, \"coef\": 1.403, \"lower\": 0.8602000000000001, \"upper\": 2.2880000000000003, \"p\": 0.1749}, {\"tumor\": \"lung\", \"cell\": \"iDC\", \"location\": \"STROMA\", \"cell_full\": \"iDC_STROMA\", \"expression\": 21.54, \"coef\": 1.176, \"lower\": 0.6498, \"upper\": 2.127, \"p\": 0.5928}, {\"tumor\": \"lung\", \"cell\": \"mDC\", \"location\": \"STROMA\", \"cell_full\": \"mDC_STROMA\", \"expression\": 0.33190000000000003, \"coef\": 1.599, \"lower\": 0.8554, \"upper\": 2.99, \"p\": 0.1413}, {\"tumor\": \"lung\", \"cell\": \"pDC\", \"location\": \"STROMA\", \"cell_full\": \"pDC_STROMA\", \"expression\": 98.71, \"coef\": 0.6742, \"lower\": 0.36920000000000003, \"upper\": 1.231, \"p\": 0.1995}]}}, {\"mode\": \"vega-lite\"});\n",
       "</script>"
      ],
      "text/plain": [
       "alt.Chart(...)"
      ]
     },
     "execution_count": 8,
     "metadata": {},
     "output_type": "execute_result"
    }
   ],
   "source": [
    "\n",
    "\n",
    "alt.Chart(db).mark_bar().encode(\n",
    "    x=alt.X('location', axis=None),\n",
    "    y=alt.Y('expression', axis=alt.Axis(grid=True)),\n",
    "    column=alt.Column('cell', header=alt.Header(labelOrient='bottom'), spacing=10),\n",
    "    color='location'\n",
    ").configure_view(strokeWidth=0)"
   ]
  },
  {
   "cell_type": "code",
   "execution_count": 9,
   "metadata": {},
   "outputs": [
    {
     "data": {
      "text/html": [
       "However we want to facet on both cell type and tumor cohort. This can be done by setting\n",
       "the `column` to cell_full. However it will use the same padding between the cohorts (or cells, whichever\n",
       "is put innermost). So this is problem 2.\n"
      ],
      "text/plain": [
       "<IPython.core.display.HTML object>"
      ]
     },
     "metadata": {},
     "output_type": "display_data"
    }
   ],
   "source": [
    "\n",
    "\n",
    "%%html\n",
    "However we want to facet on both cell type and tumor cohort. This can be done by setting\n",
    "the `column` to cell_full. However it will use the same padding between the cohorts (or cells, whichever\n",
    "is put innermost). So this is problem 2."
   ]
  },
  {
   "cell_type": "code",
   "execution_count": 10,
   "metadata": {},
   "outputs": [
    {
     "data": {
      "text/html": [
       "On to problem 3: we want to have cell type as colour and stripedness for location. Color is possible in this way:\n"
      ],
      "text/plain": [
       "<IPython.core.display.HTML object>"
      ]
     },
     "metadata": {},
     "output_type": "display_data"
    }
   ],
   "source": [
    "\n",
    "\n",
    "%%html\n",
    "On to problem 3: we want to have cell type as colour and stripedness for location. Color is possible in this way:"
   ]
  },
  {
   "cell_type": "code",
   "execution_count": 11,
   "metadata": {},
   "outputs": [
    {
     "data": {
      "text/html": [
       "\n",
       "<div id=\"altair-viz-00998bac70ae49708e47bc640e4ff203\"></div>\n",
       "<script type=\"text/javascript\">\n",
       "  (function(spec, embedOpt){\n",
       "    const outputDiv = document.getElementById(\"altair-viz-00998bac70ae49708e47bc640e4ff203\");\n",
       "    const paths = {\n",
       "      \"vega\": \"https://cdn.jsdelivr.net/npm//vega@5?noext\",\n",
       "      \"vega-lib\": \"https://cdn.jsdelivr.net/npm//vega-lib?noext\",\n",
       "      \"vega-lite\": \"https://cdn.jsdelivr.net/npm//vega-lite@4.0.2?noext\",\n",
       "      \"vega-embed\": \"https://cdn.jsdelivr.net/npm//vega-embed@6?noext\",\n",
       "    };\n",
       "\n",
       "    function loadScript(lib) {\n",
       "      return new Promise(function(resolve, reject) {\n",
       "        var s = document.createElement('script');\n",
       "        s.src = paths[lib];\n",
       "        s.async = true;\n",
       "        s.onload = () => resolve(paths[lib]);\n",
       "        s.onerror = () => reject(`Error loading script: ${paths[lib]}`);\n",
       "        document.getElementsByTagName(\"head\")[0].appendChild(s);\n",
       "      });\n",
       "    }\n",
       "\n",
       "    function showError(err) {\n",
       "      outputDiv.innerHTML = `<div class=\"error\" style=\"color:red;\">${err}</div>`;\n",
       "      throw err;\n",
       "    }\n",
       "\n",
       "    function displayChart(vegaEmbed) {\n",
       "      vegaEmbed(outputDiv, spec, embedOpt)\n",
       "        .catch(err => showError(`Javascript Error: ${err.message}<br>This usually means there's a typo in your chart specification. See the javascript console for the full traceback.`));\n",
       "    }\n",
       "\n",
       "    if(typeof define === \"function\" && define.amd) {\n",
       "      requirejs.config({paths});\n",
       "      require([\"vega-embed\"], displayChart, err => showError(`Error loading script: ${err.message}`));\n",
       "    } else if (typeof vegaEmbed === \"function\") {\n",
       "      displayChart(vegaEmbed);\n",
       "    } else {\n",
       "      loadScript(\"vega\")\n",
       "        .then(() => loadScript(\"vega-lite\"))\n",
       "        .then(() => loadScript(\"vega-embed\"))\n",
       "        .catch(showError)\n",
       "        .then(() => displayChart(vegaEmbed));\n",
       "    }\n",
       "  })({\"config\": {\"view\": {\"continuousWidth\": 400, \"continuousHeight\": 300, \"strokeWidth\": 0}}, \"data\": {\"name\": \"data-b555f3a2c5130f3cccb354fcebcfe7a6\"}, \"mark\": \"bar\", \"encoding\": {\"color\": {\"type\": \"nominal\", \"field\": \"cell\"}, \"column\": {\"type\": \"nominal\", \"field\": \"cell\", \"header\": {\"labelOrient\": \"bottom\"}, \"spacing\": 10}, \"x\": {\"type\": \"nominal\", \"axis\": null, \"field\": \"location\"}, \"y\": {\"type\": \"quantitative\", \"axis\": {\"grid\": false}, \"field\": \"expression\"}}, \"$schema\": \"https://vega.github.io/schema/vega-lite/v4.0.2.json\", \"datasets\": {\"data-b555f3a2c5130f3cccb354fcebcfe7a6\": [{\"tumor\": \"lung\", \"cell\": \"CD4\", \"location\": \"TUMOR\", \"cell_full\": \"CD4_TUMOR\", \"expression\": 135.9, \"coef\": 0.9517, \"lower\": 0.5945, \"upper\": 1.5230000000000001, \"p\": 0.8366}, {\"tumor\": \"lung\", \"cell\": \"CD4_Treg\", \"location\": \"TUMOR\", \"cell_full\": \"CD4_Treg_TUMOR\", \"expression\": 4.696, \"coef\": 0.9658, \"lower\": 0.5889, \"upper\": 1.584, \"p\": 0.8904000000000001}, {\"tumor\": \"lung\", \"cell\": \"CD8\", \"location\": \"TUMOR\", \"cell_full\": \"CD8_TUMOR\", \"expression\": 78.42, \"coef\": 0.7335, \"lower\": 0.45780000000000004, \"upper\": 1.175, \"p\": 0.1975}, {\"tumor\": \"lung\", \"cell\": \"CD8_Treg\", \"location\": \"TUMOR\", \"cell_full\": \"CD8_Treg_TUMOR\", \"expression\": 0.646, \"coef\": 0.6706000000000001, \"lower\": 0.3952, \"upper\": 1.138, \"p\": 0.1385}, {\"tumor\": \"lung\", \"cell\": \"B_cells\", \"location\": \"TUMOR\", \"cell_full\": \"B_cells_TUMOR\", \"expression\": 41.35, \"coef\": 0.8494, \"lower\": 0.5247, \"upper\": 1.375, \"p\": 0.5066}, {\"tumor\": \"lung\", \"cell\": \"CD4\", \"location\": \"STROMA\", \"cell_full\": \"CD4_STROMA\", \"expression\": 110.2, \"coef\": 1.2570000000000001, \"lower\": 0.7133, \"upper\": 2.216, \"p\": 0.4284}, {\"tumor\": \"lung\", \"cell\": \"CD4_Treg\", \"location\": \"STROMA\", \"cell_full\": \"CD4_Treg_STROMA\", \"expression\": 2.396, \"coef\": 0.9522, \"lower\": 0.5267000000000001, \"upper\": 1.721, \"p\": 0.8712000000000001}, {\"tumor\": \"lung\", \"cell\": \"CD8\", \"location\": \"STROMA\", \"cell_full\": \"CD8_STROMA\", \"expression\": 86.6, \"coef\": 0.6955, \"lower\": 0.3929, \"upper\": 1.231, \"p\": 0.21280000000000002}, {\"tumor\": \"lung\", \"cell\": \"CD8_Treg\", \"location\": \"STROMA\", \"cell_full\": \"CD8_Treg_STROMA\", \"expression\": 0.6174000000000001, \"coef\": 0.4304, \"lower\": 0.2192, \"upper\": 0.8451000000000001, \"p\": 0.01433}, {\"tumor\": \"lung\", \"cell\": \"B_cells\", \"location\": \"STROMA\", \"cell_full\": \"B_cells_STROMA\", \"expression\": 42.13, \"coef\": 0.7325, \"lower\": 0.4077, \"upper\": 1.316, \"p\": 0.2977}, {\"tumor\": \"lung\", \"cell\": \"NK\", \"location\": \"TUMOR\", \"cell_full\": \"NK_TUMOR\", \"expression\": 11.53, \"coef\": 0.7709, \"lower\": 0.46080000000000004, \"upper\": 1.29, \"p\": 0.32170000000000004}, {\"tumor\": \"lung\", \"cell\": \"NKT\", \"location\": \"TUMOR\", \"cell_full\": \"NKT_TUMOR\", \"expression\": 11.1, \"coef\": 0.8926000000000001, \"lower\": 0.5337000000000001, \"upper\": 1.4929999999999999, \"p\": 0.6649}, {\"tumor\": \"lung\", \"cell\": \"M1\", \"location\": \"TUMOR\", \"cell_full\": \"M1_TUMOR\", \"expression\": 71.44, \"coef\": 0.7721, \"lower\": 0.4731, \"upper\": 1.26, \"p\": 0.3005}, {\"tumor\": \"lung\", \"cell\": \"CD163_single\", \"location\": \"TUMOR\", \"cell_full\": \"CD163_single_TUMOR\", \"expression\": 261.6, \"coef\": 0.7335, \"lower\": 0.4484, \"upper\": 1.2, \"p\": 0.21730000000000002}, {\"tumor\": \"lung\", \"cell\": \"M2\", \"location\": \"TUMOR\", \"cell_full\": \"M2_TUMOR\", \"expression\": 4.375, \"coef\": 1.137, \"lower\": 0.6799000000000001, \"upper\": 1.903, \"p\": 0.6239}, {\"tumor\": \"lung\", \"cell\": \"NK\", \"location\": \"STROMA\", \"cell_full\": \"NK_STROMA\", \"expression\": 2.235, \"coef\": 0.6335000000000001, \"lower\": 0.3321, \"upper\": 1.208, \"p\": 0.16590000000000002}, {\"tumor\": \"lung\", \"cell\": \"NKT\", \"location\": \"STROMA\", \"cell_full\": \"NKT_STROMA\", \"expression\": 2.023, \"coef\": 1.118, \"lower\": 0.6066, \"upper\": 2.06, \"p\": 0.7208}, {\"tumor\": \"lung\", \"cell\": \"M1_single\", \"location\": \"STROMA\", \"cell_full\": \"M1_single_STROMA\", \"expression\": 82.79, \"coef\": 1.221, \"lower\": 0.6778000000000001, \"upper\": 2.198, \"p\": 0.5066}, {\"tumor\": \"lung\", \"cell\": \"CD163_single\", \"location\": \"STROMA\", \"cell_full\": \"CD163_single_STROMA\", \"expression\": 204.9, \"coef\": 1.221, \"lower\": 0.68, \"upper\": 2.193, \"p\": 0.5036}, {\"tumor\": \"lung\", \"cell\": \"M2\", \"location\": \"STROMA\", \"cell_full\": \"M2_STROMA\", \"expression\": 12.46, \"coef\": 2.002, \"lower\": 1.108, \"upper\": 3.616, \"p\": 0.021480000000000003}, {\"tumor\": \"lung\", \"cell\": \"iDC_single\", \"location\": \"TUMOR\", \"cell_full\": \"iDC_single_TUMOR\", \"expression\": 25.88, \"coef\": 0.7808, \"lower\": 0.47890000000000005, \"upper\": 1.2730000000000001, \"p\": 0.32120000000000004}, {\"tumor\": \"lung\", \"cell\": \"mDC\", \"location\": \"TUMOR\", \"cell_full\": \"mDC_TUMOR\", \"expression\": 1.142, \"coef\": 0.8041, \"lower\": 0.44470000000000004, \"upper\": 1.454, \"p\": 0.47050000000000003}, {\"tumor\": \"lung\", \"cell\": \"pDC\", \"location\": \"TUMOR\", \"cell_full\": \"pDC_TUMOR\", \"expression\": 125.7, \"coef\": 1.403, \"lower\": 0.8602000000000001, \"upper\": 2.2880000000000003, \"p\": 0.1749}, {\"tumor\": \"lung\", \"cell\": \"iDC\", \"location\": \"STROMA\", \"cell_full\": \"iDC_STROMA\", \"expression\": 21.54, \"coef\": 1.176, \"lower\": 0.6498, \"upper\": 2.127, \"p\": 0.5928}, {\"tumor\": \"lung\", \"cell\": \"mDC\", \"location\": \"STROMA\", \"cell_full\": \"mDC_STROMA\", \"expression\": 0.33190000000000003, \"coef\": 1.599, \"lower\": 0.8554, \"upper\": 2.99, \"p\": 0.1413}, {\"tumor\": \"lung\", \"cell\": \"pDC\", \"location\": \"STROMA\", \"cell_full\": \"pDC_STROMA\", \"expression\": 98.71, \"coef\": 0.6742, \"lower\": 0.36920000000000003, \"upper\": 1.231, \"p\": 0.1995}]}}, {\"mode\": \"vega-lite\"});\n",
       "</script>"
      ],
      "text/plain": [
       "alt.Chart(...)"
      ]
     },
     "execution_count": 11,
     "metadata": {},
     "output_type": "execute_result"
    }
   ],
   "source": [
    "\n",
    "\n",
    "alt.Chart(db).mark_bar().encode(\n",
    "    x=alt.X('location', axis=None),\n",
    "    y=alt.Y('expression', axis=alt.Axis(grid=False)),\n",
    "    column=alt.Column('cell', header=alt.Header(labelOrient='bottom'), spacing=10),\n",
    "    color='cell'\n",
    ").configure_view(strokeWidth=0)"
   ]
  },
  {
   "cell_type": "code",
   "execution_count": 12,
   "metadata": {},
   "outputs": [
    {
     "data": {
      "text/html": [
       "For stripedness we have to include a bit of SVG for setting the fill. Then we are stuck since\n",
       "it overrides the color property. (Note that this is not rendered in github because it requires svg)\n"
      ],
      "text/plain": [
       "<IPython.core.display.HTML object>"
      ]
     },
     "metadata": {},
     "output_type": "display_data"
    }
   ],
   "source": [
    "\n",
    "\n",
    "%%html\n",
    "For stripedness we have to include a bit of SVG for setting the fill. Then we are stuck since\n",
    "it overrides the color property. (Note that this is not rendered in github because it requires svg)"
   ]
  },
  {
   "cell_type": "code",
   "execution_count": 13,
   "metadata": {},
   "outputs": [
    {
     "data": {
      "text/html": [
       "<svg height=0>\n",
       "<defs>\n",
       "  <pattern id=\"stripe\" patternUnits=\"userSpaceOnUse\" width=\"6\" height=\"6\">\n",
       "    <path d=\"M-1,1 l2,-2\n",
       "       M0,6 l6,-6\n",
       "       M5,7 l2,-2\" stroke=\"black\" stroke-width=\"2\"></path>\n",
       "  </pattern>\n",
       "</defs>\n",
       "</svg>"
      ],
      "text/plain": [
       "<IPython.core.display.HTML object>"
      ]
     },
     "execution_count": 13,
     "metadata": {},
     "output_type": "execute_result"
    }
   ],
   "source": [
    "\n",
    "\n",
    "from IPython.display import HTML\n",
    "HTML('''<svg height=0>\n",
    "<defs>\n",
    "  <pattern id=\"stripe\" patternUnits=\"userSpaceOnUse\" width=\"6\" height=\"6\">\n",
    "    <path d=\"M-1,1 l2,-2\n",
    "       M0,6 l6,-6\n",
    "       M5,7 l2,-2\" stroke=\"black\" stroke-width=\"2\"></path>\n",
    "  </pattern>\n",
    "</defs>\n",
    "</svg>''')"
   ]
  },
  {
   "cell_type": "code",
   "execution_count": 14,
   "metadata": {},
   "outputs": [
    {
     "data": {
      "text/html": [
       "\n",
       "<div id=\"altair-viz-8722c56fe1c042bba2455a07a671c18f\"></div>\n",
       "<script type=\"text/javascript\">\n",
       "  (function(spec, embedOpt){\n",
       "    const outputDiv = document.getElementById(\"altair-viz-8722c56fe1c042bba2455a07a671c18f\");\n",
       "    const paths = {\n",
       "      \"vega\": \"https://cdn.jsdelivr.net/npm//vega@5?noext\",\n",
       "      \"vega-lib\": \"https://cdn.jsdelivr.net/npm//vega-lib?noext\",\n",
       "      \"vega-lite\": \"https://cdn.jsdelivr.net/npm//vega-lite@4.0.2?noext\",\n",
       "      \"vega-embed\": \"https://cdn.jsdelivr.net/npm//vega-embed@6?noext\",\n",
       "    };\n",
       "\n",
       "    function loadScript(lib) {\n",
       "      return new Promise(function(resolve, reject) {\n",
       "        var s = document.createElement('script');\n",
       "        s.src = paths[lib];\n",
       "        s.async = true;\n",
       "        s.onload = () => resolve(paths[lib]);\n",
       "        s.onerror = () => reject(`Error loading script: ${paths[lib]}`);\n",
       "        document.getElementsByTagName(\"head\")[0].appendChild(s);\n",
       "      });\n",
       "    }\n",
       "\n",
       "    function showError(err) {\n",
       "      outputDiv.innerHTML = `<div class=\"error\" style=\"color:red;\">${err}</div>`;\n",
       "      throw err;\n",
       "    }\n",
       "\n",
       "    function displayChart(vegaEmbed) {\n",
       "      vegaEmbed(outputDiv, spec, embedOpt)\n",
       "        .catch(err => showError(`Javascript Error: ${err.message}<br>This usually means there's a typo in your chart specification. See the javascript console for the full traceback.`));\n",
       "    }\n",
       "\n",
       "    if(typeof define === \"function\" && define.amd) {\n",
       "      requirejs.config({paths});\n",
       "      require([\"vega-embed\"], displayChart, err => showError(`Error loading script: ${err.message}`));\n",
       "    } else if (typeof vegaEmbed === \"function\") {\n",
       "      displayChart(vegaEmbed);\n",
       "    } else {\n",
       "      loadScript(\"vega\")\n",
       "        .then(() => loadScript(\"vega-lite\"))\n",
       "        .then(() => loadScript(\"vega-embed\"))\n",
       "        .catch(showError)\n",
       "        .then(() => displayChart(vegaEmbed));\n",
       "    }\n",
       "  })({\"config\": {\"view\": {\"continuousWidth\": 400, \"continuousHeight\": 300, \"strokeWidth\": 0}}, \"data\": {\"name\": \"data-b555f3a2c5130f3cccb354fcebcfe7a6\"}, \"mark\": \"bar\", \"encoding\": {\"color\": {\"type\": \"nominal\", \"field\": \"cell\"}, \"column\": {\"type\": \"nominal\", \"field\": \"cell\", \"header\": {\"labelOrient\": \"bottom\"}, \"spacing\": 10}, \"fill\": {\"type\": \"nominal\", \"field\": \"cell_full\", \"scale\": {\"range\": [\"url(#stripe)\", \"\"]}}, \"x\": {\"type\": \"nominal\", \"axis\": null, \"field\": \"location\"}, \"y\": {\"type\": \"quantitative\", \"axis\": {\"grid\": false}, \"field\": \"expression\"}}, \"$schema\": \"https://vega.github.io/schema/vega-lite/v4.0.2.json\", \"datasets\": {\"data-b555f3a2c5130f3cccb354fcebcfe7a6\": [{\"tumor\": \"lung\", \"cell\": \"CD4\", \"location\": \"TUMOR\", \"cell_full\": \"CD4_TUMOR\", \"expression\": 135.9, \"coef\": 0.9517, \"lower\": 0.5945, \"upper\": 1.5230000000000001, \"p\": 0.8366}, {\"tumor\": \"lung\", \"cell\": \"CD4_Treg\", \"location\": \"TUMOR\", \"cell_full\": \"CD4_Treg_TUMOR\", \"expression\": 4.696, \"coef\": 0.9658, \"lower\": 0.5889, \"upper\": 1.584, \"p\": 0.8904000000000001}, {\"tumor\": \"lung\", \"cell\": \"CD8\", \"location\": \"TUMOR\", \"cell_full\": \"CD8_TUMOR\", \"expression\": 78.42, \"coef\": 0.7335, \"lower\": 0.45780000000000004, \"upper\": 1.175, \"p\": 0.1975}, {\"tumor\": \"lung\", \"cell\": \"CD8_Treg\", \"location\": \"TUMOR\", \"cell_full\": \"CD8_Treg_TUMOR\", \"expression\": 0.646, \"coef\": 0.6706000000000001, \"lower\": 0.3952, \"upper\": 1.138, \"p\": 0.1385}, {\"tumor\": \"lung\", \"cell\": \"B_cells\", \"location\": \"TUMOR\", \"cell_full\": \"B_cells_TUMOR\", \"expression\": 41.35, \"coef\": 0.8494, \"lower\": 0.5247, \"upper\": 1.375, \"p\": 0.5066}, {\"tumor\": \"lung\", \"cell\": \"CD4\", \"location\": \"STROMA\", \"cell_full\": \"CD4_STROMA\", \"expression\": 110.2, \"coef\": 1.2570000000000001, \"lower\": 0.7133, \"upper\": 2.216, \"p\": 0.4284}, {\"tumor\": \"lung\", \"cell\": \"CD4_Treg\", \"location\": \"STROMA\", \"cell_full\": \"CD4_Treg_STROMA\", \"expression\": 2.396, \"coef\": 0.9522, \"lower\": 0.5267000000000001, \"upper\": 1.721, \"p\": 0.8712000000000001}, {\"tumor\": \"lung\", \"cell\": \"CD8\", \"location\": \"STROMA\", \"cell_full\": \"CD8_STROMA\", \"expression\": 86.6, \"coef\": 0.6955, \"lower\": 0.3929, \"upper\": 1.231, \"p\": 0.21280000000000002}, {\"tumor\": \"lung\", \"cell\": \"CD8_Treg\", \"location\": \"STROMA\", \"cell_full\": \"CD8_Treg_STROMA\", \"expression\": 0.6174000000000001, \"coef\": 0.4304, \"lower\": 0.2192, \"upper\": 0.8451000000000001, \"p\": 0.01433}, {\"tumor\": \"lung\", \"cell\": \"B_cells\", \"location\": \"STROMA\", \"cell_full\": \"B_cells_STROMA\", \"expression\": 42.13, \"coef\": 0.7325, \"lower\": 0.4077, \"upper\": 1.316, \"p\": 0.2977}, {\"tumor\": \"lung\", \"cell\": \"NK\", \"location\": \"TUMOR\", \"cell_full\": \"NK_TUMOR\", \"expression\": 11.53, \"coef\": 0.7709, \"lower\": 0.46080000000000004, \"upper\": 1.29, \"p\": 0.32170000000000004}, {\"tumor\": \"lung\", \"cell\": \"NKT\", \"location\": \"TUMOR\", \"cell_full\": \"NKT_TUMOR\", \"expression\": 11.1, \"coef\": 0.8926000000000001, \"lower\": 0.5337000000000001, \"upper\": 1.4929999999999999, \"p\": 0.6649}, {\"tumor\": \"lung\", \"cell\": \"M1\", \"location\": \"TUMOR\", \"cell_full\": \"M1_TUMOR\", \"expression\": 71.44, \"coef\": 0.7721, \"lower\": 0.4731, \"upper\": 1.26, \"p\": 0.3005}, {\"tumor\": \"lung\", \"cell\": \"CD163_single\", \"location\": \"TUMOR\", \"cell_full\": \"CD163_single_TUMOR\", \"expression\": 261.6, \"coef\": 0.7335, \"lower\": 0.4484, \"upper\": 1.2, \"p\": 0.21730000000000002}, {\"tumor\": \"lung\", \"cell\": \"M2\", \"location\": \"TUMOR\", \"cell_full\": \"M2_TUMOR\", \"expression\": 4.375, \"coef\": 1.137, \"lower\": 0.6799000000000001, \"upper\": 1.903, \"p\": 0.6239}, {\"tumor\": \"lung\", \"cell\": \"NK\", \"location\": \"STROMA\", \"cell_full\": \"NK_STROMA\", \"expression\": 2.235, \"coef\": 0.6335000000000001, \"lower\": 0.3321, \"upper\": 1.208, \"p\": 0.16590000000000002}, {\"tumor\": \"lung\", \"cell\": \"NKT\", \"location\": \"STROMA\", \"cell_full\": \"NKT_STROMA\", \"expression\": 2.023, \"coef\": 1.118, \"lower\": 0.6066, \"upper\": 2.06, \"p\": 0.7208}, {\"tumor\": \"lung\", \"cell\": \"M1_single\", \"location\": \"STROMA\", \"cell_full\": \"M1_single_STROMA\", \"expression\": 82.79, \"coef\": 1.221, \"lower\": 0.6778000000000001, \"upper\": 2.198, \"p\": 0.5066}, {\"tumor\": \"lung\", \"cell\": \"CD163_single\", \"location\": \"STROMA\", \"cell_full\": \"CD163_single_STROMA\", \"expression\": 204.9, \"coef\": 1.221, \"lower\": 0.68, \"upper\": 2.193, \"p\": 0.5036}, {\"tumor\": \"lung\", \"cell\": \"M2\", \"location\": \"STROMA\", \"cell_full\": \"M2_STROMA\", \"expression\": 12.46, \"coef\": 2.002, \"lower\": 1.108, \"upper\": 3.616, \"p\": 0.021480000000000003}, {\"tumor\": \"lung\", \"cell\": \"iDC_single\", \"location\": \"TUMOR\", \"cell_full\": \"iDC_single_TUMOR\", \"expression\": 25.88, \"coef\": 0.7808, \"lower\": 0.47890000000000005, \"upper\": 1.2730000000000001, \"p\": 0.32120000000000004}, {\"tumor\": \"lung\", \"cell\": \"mDC\", \"location\": \"TUMOR\", \"cell_full\": \"mDC_TUMOR\", \"expression\": 1.142, \"coef\": 0.8041, \"lower\": 0.44470000000000004, \"upper\": 1.454, \"p\": 0.47050000000000003}, {\"tumor\": \"lung\", \"cell\": \"pDC\", \"location\": \"TUMOR\", \"cell_full\": \"pDC_TUMOR\", \"expression\": 125.7, \"coef\": 1.403, \"lower\": 0.8602000000000001, \"upper\": 2.2880000000000003, \"p\": 0.1749}, {\"tumor\": \"lung\", \"cell\": \"iDC\", \"location\": \"STROMA\", \"cell_full\": \"iDC_STROMA\", \"expression\": 21.54, \"coef\": 1.176, \"lower\": 0.6498, \"upper\": 2.127, \"p\": 0.5928}, {\"tumor\": \"lung\", \"cell\": \"mDC\", \"location\": \"STROMA\", \"cell_full\": \"mDC_STROMA\", \"expression\": 0.33190000000000003, \"coef\": 1.599, \"lower\": 0.8554, \"upper\": 2.99, \"p\": 0.1413}, {\"tumor\": \"lung\", \"cell\": \"pDC\", \"location\": \"STROMA\", \"cell_full\": \"pDC_STROMA\", \"expression\": 98.71, \"coef\": 0.6742, \"lower\": 0.36920000000000003, \"upper\": 1.231, \"p\": 0.1995}]}}, {\"renderer\": \"svg\", \"mode\": \"vega-lite\"});\n",
       "</script>"
      ],
      "text/plain": [
       "alt.Chart(...)"
      ]
     },
     "metadata": {},
     "output_type": "display_data"
    }
   ],
   "source": [
    "\n",
    "\n",
    "alt.Chart(db).mark_bar().encode(\n",
    "    x=alt.X('location', axis=None),\n",
    "    y=alt.Y('expression', axis=alt.Axis(grid=False)),\n",
    "    column=alt.Column('cell', header=alt.Header(labelOrient='bottom'), spacing=10),\n",
    "    color='cell', # this is ignored\n",
    "    fill={\n",
    "        'field': 'cell_full',\n",
    "        'type': 'nominal',\n",
    "        'scale': {'range': ['url(#stripe)', '']}\n",
    "    },\n",
    ").configure_view(\n",
    "    strokeWidth=0\n",
    ").display(renderer='svg')"
   ]
  }
 ],
 "metadata": {
  "language_info": {
   "codemirror_mode": {
    "name": "ipython",
    "version": 3
   },
   "file_extension": ".py",
   "mimetype": "text/x-python",
   "name": "python",
   "nbconvert_exporter": "python",
   "pygments_lexer": "ipython3",
   "version": "3.8.1"
  }
 },
 "nbformat": 4,
 "nbformat_minor": 2
}
